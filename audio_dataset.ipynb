{
 "cells": [
  {
   "cell_type": "code",
   "execution_count": null,
   "id": "24709e8b-7c33-496d-a7f1-e8d9ef5b2fd8",
   "metadata": {},
   "outputs": [],
   "source": [
    "!pip install librosa numpy tensorflow scikit-learn matplotlib\n"
   ]
  },
  {
   "cell_type": "code",
   "execution_count": null,
   "id": "b58e5895-83c4-407d-a6fa-d9931682f49a",
   "metadata": {},
   "outputs": [],
   "source": [
    "import os\n",
    "import librosa\n",
    "import numpy as np\n",
    "import tensorflow as tf\n",
    "from sklearn.preprocessing import LabelEncoder\n",
    "from sklearn.model_selection import train_test_split\n",
    "import matplotlib.pyplot as plt\n"
   ]
  },
  {
   "cell_type": "code",
   "execution_count": null,
   "id": "edcf9955-d72b-40ca-ad14-1b9ba77ce01a",
   "metadata": {},
   "outputs": [],
   "source": [
    "# Path to your dataset folder (organized by class folders)\n",
    "AUDIO_PATH = \"C:\\\\Users\\\\purna\\\\Downloads\\\\audio_file\"\n",
    " # e.g., dataset/car, dataset/truck, dataset/bike\n",
    "\n",
    "# MFCC parameters\n",
    "MAX_LEN = 40            # Number of time steps to keep\n",
    "SAMPLE_RATE = 22050\n",
    "N_MFCC = 13\n",
    "\n",
    "def extract_features(file_path):\n",
    "    y, sr = librosa.load(file_path, sr=SAMPLE_RATE)\n",
    "    mfcc = librosa.feature.mfcc(y=y, sr=sr, n_mfcc=N_MFCC).T  # shape: (time, features)\n",
    "\n",
    "    # Pad or truncate\n",
    "    if mfcc.shape[0] < MAX_LEN:\n",
    "        pad_width = MAX_LEN - mfcc.shape[0]\n",
    "        mfcc = np.pad(mfcc, ((0, pad_width), (0, 0)), mode='constant')\n",
    "    else:\n",
    "        mfcc = mfcc[:MAX_LEN]\n",
    "    return mfcc\n"
   ]
  },
  {
   "cell_type": "code",
   "execution_count": null,
   "id": "7f22d522-7fa8-49b1-bbae-15fcd39cc733",
   "metadata": {},
   "outputs": [],
   "source": [
    "X, y = [], []\n",
    "\n",
    "# Loop through folders and extract features\n",
    "for label in os.listdir(AUDIO_PATH):\n",
    "    folder = os.path.join(AUDIO_PATH, label)\n",
    "    if os.path.isdir(folder):\n",
    "        for file in os.listdir(folder):\n",
    "            if file.endswith('.wav'):\n",
    "                file_path = os.path.join(folder, file)\n",
    "                try:\n",
    "                    mfcc = extract_features(file_path)\n",
    "                    X.append(mfcc)\n",
    "                    y.append(label)\n",
    "                except Exception as e:\n",
    "                    print(f\"Error processing {file_path}: {e}\")\n",
    "\n",
    "X = np.array(X)\n",
    "y = np.array(y)\n",
    "\n",
    "# Encode class labels\n",
    "le = LabelEncoder()\n",
    "y_encoded = le.fit_transform(y)\n",
    "y_encoded = tf.keras.utils.to_categorical(y_encoded)\n",
    "\n",
    "# Train-test split\n",
    "X_train, X_test, y_train, y_test = train_test_split(X, y_encoded, test_size=0.2, random_state=42)\n",
    "\n",
    "print(f\"Data loaded. Shape: {X.shape}, Labels: {le.classes_}\")\n"
   ]
  },
  {
   "cell_type": "code",
   "execution_count": null,
   "id": "1bd85873-7995-4553-94fd-27160d86c551",
   "metadata": {},
   "outputs": [],
   "source": [
    "model = tf.keras.Sequential([\n",
    "    tf.keras.layers.Input(shape=(MAX_LEN, N_MFCC)),\n",
    "    tf.keras.layers.LSTM(64, return_sequences=True),\n",
    "    tf.keras.layers.LSTM(64),\n",
    "    tf.keras.layers.Dense(64, activation='relu'),\n",
    "    tf.keras.layers.Dense(y_encoded.shape[1], activation='softmax')\n",
    "])\n",
    "\n",
    "model.compile(loss='categorical_crossentropy', optimizer='adam', metrics=['accuracy'])\n",
    "\n",
    "history = model.fit(X_train, y_train, epochs=30, batch_size=16, validation_data=(X_test, y_test))\n"
   ]
  },
  {
   "cell_type": "code",
   "execution_count": null,
   "id": "fbea32c7-7ccb-4533-939d-11ee5b85dd24",
   "metadata": {},
   "outputs": [],
   "source": [
    "plt.figure(figsize=(12, 4))\n",
    "\n",
    "plt.subplot(1, 2, 1)\n",
    "plt.plot(history.history['accuracy'], label='Train Accuracy')\n",
    "plt.plot(history.history['val_accuracy'], label='Validation Accuracy')\n",
    "plt.title(\"Model Accuracy\")\n",
    "plt.xlabel(\"Epoch\")\n",
    "plt.ylabel(\"Accuracy\")\n",
    "plt.legend()\n",
    "\n",
    "plt.subplot(1, 2, 2)\n",
    "plt.plot(history.history['loss'], label='Train Loss')\n",
    "plt.plot(history.history['val_loss'], label='Validation Loss')\n",
    "plt.title(\"Model Loss\")\n",
    "plt.xlabel(\"Epoch\")\n",
    "plt.ylabel(\"Loss\")\n",
    "plt.legend()\n",
    "\n",
    "plt.tight_layout()\n",
    "plt.show()\n"
   ]
  },
  {
   "cell_type": "code",
   "execution_count": null,
   "id": "87c64662-4e01-4f07-a23f-ce9fbca86a86",
   "metadata": {},
   "outputs": [],
   "source": []
  }
 ],
 "metadata": {
  "kernelspec": {
   "display_name": "Python 3 (ipykernel)",
   "language": "python",
   "name": "python3"
  },
  "language_info": {
   "codemirror_mode": {
    "name": "ipython",
    "version": 3
   },
   "file_extension": ".py",
   "mimetype": "text/x-python",
   "name": "python",
   "nbconvert_exporter": "python",
   "pygments_lexer": "ipython3",
   "version": "3.12.7"
  }
 },
 "nbformat": 4,
 "nbformat_minor": 5
}
